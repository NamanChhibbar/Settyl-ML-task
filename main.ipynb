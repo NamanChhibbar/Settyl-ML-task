{
 "cells": [
  {
   "cell_type": "markdown",
   "metadata": {},
   "source": [
    "# Settyl Data Science And Machine Learning Engineer Task"
   ]
  },
  {
   "cell_type": "markdown",
   "metadata": {},
   "source": [
    "## Import necessary modules and utility functions"
   ]
  },
  {
   "cell_type": "code",
   "execution_count": 1,
   "metadata": {},
   "outputs": [],
   "source": [
    "import json, torch\n",
    "\n",
    "from utils import preprocess"
   ]
  },
  {
   "cell_type": "markdown",
   "metadata": {},
   "source": [
    "## Importing and visualizing the dataset\n",
    "\n",
    "We laod the data from the json path below. Data is in the form of a list of dictionaries, each containing pair of values of external status and internal status. To visualize the data, we print the tail of the dataset (last 5 rows). We use the last 5 rows instead of the first 5 to check for any redundant rows that may have been loaded due to newlines at the end of the data file."
   ]
  },
  {
   "cell_type": "code",
   "execution_count": 2,
   "metadata": {},
   "outputs": [
    {
     "data": {
      "text/plain": [
       "[{'externalStatus': 'Import Loaded on Rail',\n",
       "  'internalStatus': 'Loaded on Vessel'},\n",
       " {'externalStatus': 'Full Transshipment Loaded',\n",
       "  'internalStatus': 'Loaded on Vessel'},\n",
       " {'externalStatus': 'Full Transshipment Loaded',\n",
       "  'internalStatus': 'Loaded on Vessel'},\n",
       " {'externalStatus': 'Export Loaded on Vessel',\n",
       "  'internalStatus': 'Loaded on Vessel'},\n",
       " {'externalStatus': 'Empty to Shipper',\n",
       "  'internalStatus': 'Empty Container Released'}]"
      ]
     },
     "execution_count": 2,
     "metadata": {},
     "output_type": "execute_result"
    }
   ],
   "source": [
    "# Path to json\n",
    "json_path = \"dataset.json\"\n",
    "\n",
    "# Loading the data\n",
    "with open(json_path) as fp:\n",
    "    data = json.load(fp)\n",
    "\n",
    "# Tail of the data\n",
    "data[-5:]"
   ]
  },
  {
   "cell_type": "markdown",
   "metadata": {},
   "source": [
    "## Preprocessing\n",
    "\n",
    "To preprocess the data, we iterate over the pairs of external and internal statuses. We then strip off any white spaces and convert the texts to lower case. We also remove any non-alphanumeric characters for simplicity. Check the `preprocess` function in [utils.py](utils.py) for more details.\n",
    "\n",
    "We extract the inputs (external statuses), labels (internal statuses), unique labels, and vocabulary after preprocessing. Note that the vocabulary only contains distinct words from external statuses since internal statuses are treated as classes."
   ]
  },
  {
   "cell_type": "code",
   "execution_count": 6,
   "metadata": {},
   "outputs": [
    {
     "data": {
      "text/plain": [
       "146"
      ]
     },
     "execution_count": 6,
     "metadata": {},
     "output_type": "execute_result"
    }
   ],
   "source": [
    "inputs, labels, unique_labels, vocab = preprocess(data)\n",
    "\n",
    "len(vocab)"
   ]
  },
  {
   "cell_type": "code",
   "execution_count": 4,
   "metadata": {},
   "outputs": [
    {
     "data": {
      "text/plain": [
       "['arrival',\n",
       " 'departure',\n",
       " 'empty container released',\n",
       " 'empty return',\n",
       " 'gate in',\n",
       " 'gate out',\n",
       " 'inbound terminal',\n",
       " 'intransit',\n",
       " 'loaded on vessel',\n",
       " 'off rail',\n",
       " 'on rail',\n",
       " 'outbound terminal',\n",
       " 'port in',\n",
       " 'port out',\n",
       " 'unloaded on vessel']"
      ]
     },
     "execution_count": 4,
     "metadata": {},
     "output_type": "execute_result"
    }
   ],
   "source": [
    "unique_labels"
   ]
  },
  {
   "cell_type": "code",
   "execution_count": null,
   "metadata": {},
   "outputs": [],
   "source": []
  }
 ],
 "metadata": {
  "kernelspec": {
   "display_name": ".venv",
   "language": "python",
   "name": "python3"
  },
  "language_info": {
   "codemirror_mode": {
    "name": "ipython",
    "version": 3
   },
   "file_extension": ".py",
   "mimetype": "text/x-python",
   "name": "python",
   "nbconvert_exporter": "python",
   "pygments_lexer": "ipython3",
   "version": "3.12.2"
  }
 },
 "nbformat": 4,
 "nbformat_minor": 2
}
