{
 "cells": [
  {
   "cell_type": "markdown",
   "metadata": {},
   "source": [
    "# Settyl Data Science And Machine Learning Engineer Task"
   ]
  },
  {
   "cell_type": "markdown",
   "metadata": {},
   "source": [
    "## Import necessary modules and utility functions"
   ]
  },
  {
   "cell_type": "code",
   "execution_count": 1,
   "metadata": {},
   "outputs": [],
   "source": [
    "import json\n",
    "import numpy as np\n",
    "import torch\n",
    "from matplotlib import pyplot as plt\n",
    "from torch.optim import Adam\n",
    "from torch.optim.lr_scheduler import LinearLR\n",
    "from sklearn.metrics import accuracy_score, precision_score, recall_score\n",
    "\n",
    "from utils import preprocess, train_test_split, tokenize, labels2tensor, dynamically_batch, Model\n",
    "\n",
    "torch.random.manual_seed(0)\n",
    "np.random.seed(0)"
   ]
  },
  {
   "cell_type": "markdown",
   "metadata": {},
   "source": [
    "## Importing and visualizing the dataset\n",
    "\n",
    "We laod the data from the json path below. Data is in the form of a list of dictionaries, each containing pair of values of external status and internal status. To visualize the data, we print the tail of the dataset (last 5 rows). We use the last 5 rows instead of the first 5 to check for any redundant rows that may have been loaded due to newlines at the end of the data file."
   ]
  },
  {
   "cell_type": "code",
   "execution_count": 2,
   "metadata": {},
   "outputs": [
    {
     "data": {
      "text/plain": [
       "array([{'externalStatus': 'DEPARTCU', 'internalStatus': 'Departure'},\n",
       "       {'externalStatus': 'DEPARTCU', 'internalStatus': 'Departure'},\n",
       "       {'externalStatus': 'Import Unloaded from Rail', 'internalStatus': 'Unloaded on Vessel'},\n",
       "       {'externalStatus': 'Gate out', 'internalStatus': 'Gate Out'},\n",
       "       {'externalStatus': 'Discharge', 'internalStatus': 'Departure'}],\n",
       "      dtype=object)"
      ]
     },
     "execution_count": 2,
     "metadata": {},
     "output_type": "execute_result"
    }
   ],
   "source": [
    "# Path to json\n",
    "json_path = \"dataset.json\"\n",
    "\n",
    "# Loading and shuffling the data\n",
    "with open(json_path) as fp:\n",
    "    data = np.random.permutation(json.load(fp))\n",
    "\n",
    "# Tail of the data\n",
    "data[-5:]"
   ]
  },
  {
   "cell_type": "markdown",
   "metadata": {},
   "source": [
    "## Preprocessing\n",
    "\n",
    "To preprocess the data, we iterate over the pairs of external and internal statuses. We then strip off any white spaces and convert the texts to lower case. We also remove any non-alphanumeric characters for simplicity. Check the `preprocess` function in [utils.py](utils.py) for more details.\n",
    "\n",
    "We extract the inputs (external statuses), labels (internal statuses), unique labels, and vocabulary after preprocessing. Note that the vocabulary only contains distinct words from external statuses since internal statuses are treated as classes."
   ]
  },
  {
   "cell_type": "code",
   "execution_count": 3,
   "metadata": {},
   "outputs": [],
   "source": [
    "texts, labels, unique_labels, vocab = preprocess(data)"
   ]
  },
  {
   "cell_type": "code",
   "execution_count": 4,
   "metadata": {},
   "outputs": [
    {
     "data": {
      "text/plain": [
       "124"
      ]
     },
     "execution_count": 4,
     "metadata": {},
     "output_type": "execute_result"
    }
   ],
   "source": [
    "# Length of our vocabulary\n",
    "\n",
    "len(vocab)"
   ]
  },
  {
   "cell_type": "code",
   "execution_count": 5,
   "metadata": {},
   "outputs": [
    {
     "data": {
      "text/plain": [
       "['arrival',\n",
       " 'departure',\n",
       " 'empty container released',\n",
       " 'empty return',\n",
       " 'gate in',\n",
       " 'gate out',\n",
       " 'inbound terminal',\n",
       " 'intransit',\n",
       " 'loaded on vessel',\n",
       " 'off rail',\n",
       " 'on rail',\n",
       " 'outbound terminal',\n",
       " 'port in',\n",
       " 'port out',\n",
       " 'unloaded on vessel']"
      ]
     },
     "execution_count": 5,
     "metadata": {},
     "output_type": "execute_result"
    }
   ],
   "source": [
    "# Unique labels in our dataset\n",
    "\n",
    "unique_labels"
   ]
  },
  {
   "cell_type": "code",
   "execution_count": 6,
   "metadata": {},
   "outputs": [
    {
     "data": {
      "text/plain": [
       "12"
      ]
     },
     "execution_count": 6,
     "metadata": {},
     "output_type": "execute_result"
    }
   ],
   "source": [
    "# Maximum number of words in our texts\n",
    "\n",
    "max(map(lambda x: len(x.split()), texts))"
   ]
  },
  {
   "cell_type": "markdown",
   "metadata": {},
   "source": [
    "### Splitting the data\n",
    "\n",
    "We split the data into train and test sets. Since we have a very small dataset, we will use the test set for both validation (for hyperparameter tuning) and testing (model evaluation)."
   ]
  },
  {
   "cell_type": "code",
   "execution_count": 7,
   "metadata": {},
   "outputs": [],
   "source": [
    "train_ratio = 0.95\n",
    "shuffle = True\n",
    "\n",
    "train_texts, train_labels, test_texts, test_labels = train_test_split(texts, labels, train_ratio, shuffle)"
   ]
  },
  {
   "cell_type": "code",
   "execution_count": 8,
   "metadata": {},
   "outputs": [
    {
     "data": {
      "text/plain": [
       "(1160, 62)"
      ]
     },
     "execution_count": 8,
     "metadata": {},
     "output_type": "execute_result"
    }
   ],
   "source": [
    "# Lengths of train and test sets\n",
    "\n",
    "len(train_texts), len(test_texts)"
   ]
  },
  {
   "cell_type": "markdown",
   "metadata": {},
   "source": [
    "### Creating tensor dataset\n",
    "\n",
    "The train data is dynamically batched (batching similar length sequences together) and the labels are vectorized. We dynamically batch our train set for efficient computations, since padding will be minimal. The test set in vectorized into one single batch."
   ]
  },
  {
   "cell_type": "code",
   "execution_count": 9,
   "metadata": {},
   "outputs": [],
   "source": [
    "max_tokens = 15\n",
    "\n",
    "test_inputs, test_classes = tokenize(test_texts, vocab, max_tokens), labels2tensor(test_labels, unique_labels)"
   ]
  },
  {
   "cell_type": "code",
   "execution_count": 10,
   "metadata": {},
   "outputs": [
    {
     "data": {
      "text/plain": [
       "(tensor([[48, 83, 36,  0,  0,  0,  0,  0,  0,  0,  0,  0],\n",
       "         [48, 83, 36,  0,  0,  0,  0,  0,  0,  0,  0,  0],\n",
       "         [48, 83, 36,  0,  0,  0,  0,  0,  0,  0,  0,  0],\n",
       "         [48, 83, 36,  0,  0,  0,  0,  0,  0,  0,  0,  0],\n",
       "         [48, 83, 36,  0,  0,  0,  0,  0,  0,  0,  0,  0]]),\n",
       " tensor([5, 5, 8, 1, 8]))"
      ]
     },
     "execution_count": 10,
     "metadata": {},
     "output_type": "execute_result"
    }
   ],
   "source": [
    "# Tail of vectorized test set\n",
    "\n",
    "test_inputs[-5:], test_classes[-5:]"
   ]
  },
  {
   "cell_type": "markdown",
   "metadata": {},
   "source": [
    "Now, we will implement dynamic batching for train set. To do so, we sort the train texts by the number of tokens and batch accordingly. Refer [utils.py](utils.py) for more details."
   ]
  },
  {
   "cell_type": "code",
   "execution_count": 11,
   "metadata": {},
   "outputs": [],
   "source": [
    "batch_size = 32\n",
    "\n",
    "batched_train = dynamically_batch(train_texts, train_labels, batch_size, vocab, unique_labels, max_tokens)"
   ]
  },
  {
   "cell_type": "code",
   "execution_count": 12,
   "metadata": {},
   "outputs": [
    {
     "data": {
      "text/plain": [
       "(tensor([[116,  44,  67,  81,   4,  10,  92,  78,  31,  67,  81,   4],\n",
       "         [116,  44,  67,  81,   4,  10,  92,  78,  31,  67,  81,   4],\n",
       "         [116,  44,  67,  81,   4,  10,  92,  78,  31,  67,  81,   4],\n",
       "         [116,  44,  67,  81,   4,  10,  92,  78,  31,  67,  81,   4],\n",
       "         [116,  44,  67,  81,   4,  10,  92,  78,  31,  67,  81,   4],\n",
       "         [116,  44,  67,  81,   4,  10,  92,  78,  31,  67,  81,   4],\n",
       "         [116,  44,  67,  81,   4,  10,  92,  78,  31,  67,  81,   4],\n",
       "         [116,  44,  67,  81,   4,  10,  92,  78,  31,  67,  81,   4]]),\n",
       " tensor([14,  8,  8, 14,  8, 14,  8,  8]))"
      ]
     },
     "execution_count": 12,
     "metadata": {},
     "output_type": "execute_result"
    }
   ],
   "source": [
    "# Last element of the dynamically batched train set\n",
    "\n",
    "batched_train[-1]"
   ]
  },
  {
   "cell_type": "markdown",
   "metadata": {},
   "source": [
    "## Defining the model, optimizer, and scheduler\n",
    "\n",
    "We define a sequence classification model with labels as unique internal statuses. Check the model implementation in [utils.py](utils.py) for more information about model architecture."
   ]
  },
  {
   "cell_type": "code",
   "execution_count": 13,
   "metadata": {},
   "outputs": [],
   "source": [
    "embedding_dim = 10\n",
    "hidden_size = 8\n",
    "lstm_layers = 4\n",
    "lrelu_slope = 0.2\n",
    "dropout = 0.3\n",
    "\n",
    "model = Model(\n",
    "    vocab_size=len(vocab),\n",
    "    embedding_dim=embedding_dim,\n",
    "    num_classes=len(unique_labels),\n",
    "    hidden_size=hidden_size,\n",
    "    lstm_layers=lstm_layers,\n",
    "    lrelu_slope=lrelu_slope,\n",
    "    dropout=dropout\n",
    ")"
   ]
  },
  {
   "cell_type": "code",
   "execution_count": 14,
   "metadata": {},
   "outputs": [
    {
     "data": {
      "text/plain": [
       "Model(\n",
       "  (dropout): Dropout(p=0.3, inplace=False)\n",
       "  (embedding): Embedding(124, 10)\n",
       "  (lrelu): LeakyReLU(negative_slope=0.2)\n",
       "  (lstm): LSTM(10, 8, num_layers=4, dropout=0.3)\n",
       "  (dense): Linear(in_features=8, out_features=15, bias=True)\n",
       "  (loss): CrossEntropyLoss()\n",
       ")"
      ]
     },
     "execution_count": 14,
     "metadata": {},
     "output_type": "execute_result"
    }
   ],
   "source": [
    "# Model info\n",
    "\n",
    "model"
   ]
  },
  {
   "cell_type": "markdown",
   "metadata": {},
   "source": [
    "Now, we define the optimizer and scheduler we will use to train out model. We use the Adam optimizer and a linear learning rate schedule."
   ]
  },
  {
   "cell_type": "code",
   "execution_count": 15,
   "metadata": {},
   "outputs": [],
   "source": [
    "initial_lr = 8e-2       # Initial learning rate of the optimizer\n",
    "start_factor = 1        # Starting factor multiplied to the learning rate\n",
    "end_factor = 0.2        # End factor multiplied to the learning rate\n",
    "iters = 20              # Total number of epochs over which start_factor linearly grows towards end_factor\n",
    "\n",
    "optimizer = Adam(model.parameters(), lr=initial_lr)\n",
    "scheduler = LinearLR(optimizer, start_factor=start_factor, end_factor=end_factor, total_iters=iters)"
   ]
  },
  {
   "cell_type": "markdown",
   "metadata": {},
   "source": [
    "## Training the model\n",
    "\n",
    "Now we finally train our model. We track the average training loss, test loss, and learning rate values to tune the model hyperparameters."
   ]
  },
  {
   "cell_type": "code",
   "execution_count": 16,
   "metadata": {},
   "outputs": [
    {
     "name": "stdout",
     "output_type": "stream",
     "text": [
      "Epoch: 50/50 Batch: 37/37\t\t"
     ]
    }
   ],
   "source": [
    "num_epochs = 50\n",
    "num_batches = len(batched_train)\n",
    "\n",
    "train_loss, test_loss, lr_vals = [], [], []\n",
    "test_accuracy, test_precision, test_recall = [], [], []\n",
    "\n",
    "for epoch in range(num_epochs):\n",
    "    \n",
    "    # Tracks total epoch loss\n",
    "    epoch_loss = 0\n",
    "\n",
    "    for batch, (inp, label) in enumerate(batched_train):\n",
    "\n",
    "        loss = model(x=inp, labels=label, training=True)[\"loss\"]\n",
    "        epoch_loss += loss.item()\n",
    "        loss.backward()\n",
    "        optimizer.step()\n",
    "        optimizer.zero_grad()\n",
    "        print(f\"\\rEpoch: {epoch+1}/{num_epochs} Batch: {batch+1}/{num_batches}\", end=\"\\t\\t\")\n",
    "    \n",
    "    # Track learning rate value\n",
    "    lr_vals.append(scheduler.get_last_lr())\n",
    "    scheduler.step()\n",
    "\n",
    "    # Track average epoch loss\n",
    "    train_loss.append(epoch_loss / num_batches)\n",
    "\n",
    "    # Test model\n",
    "    with torch.no_grad():\n",
    "        test_output = model(test_inputs, test_classes, False)\n",
    "    test_loss.append(test_output[\"loss\"].item())\n",
    "    test_accuracy.append(accuracy_score(test_classes, test_output[\"predictions\"]))\n",
    "    test_precision.append(precision_score(test_classes, test_output[\"predictions\"], average=\"micro\"))\n",
    "    test_recall.append(recall_score(test_classes, test_output[\"predictions\"], average=\"micro\"))"
   ]
  },
  {
   "cell_type": "markdown",
   "metadata": {},
   "source": [
    "## Metrics analysis"
   ]
  },
  {
   "cell_type": "code",
   "execution_count": 17,
   "metadata": {},
   "outputs": [
    {
     "data": {
      "image/png": "[encoded data removed]",
      "text/plain": [
       "<Figure size 640x480 with 1 Axes>"
      ]
     },
     "metadata": {},
     "output_type": "display_data"
    }
   ],
   "source": [
    "# Plotting learning rate schedule\n",
    "\n",
    "plt.plot(lr_vals, color=\"red\")\n",
    "plt.xlabel(\"Epoch\")\n",
    "plt.ylabel(\"Learning rate\")\n",
    "plt.show()"
   ]
  },
  {
   "cell_type": "code",
   "execution_count": 18,
   "metadata": {},
   "outputs": [
    {
     "data": {
      "image/png": "[encoded data removed]",
      "text/plain": [
       "<Figure size 640x480 with 1 Axes>"
      ]
     },
     "metadata": {},
     "output_type": "display_data"
    }
   ],
   "source": [
    "# Plotting train and test loss\n",
    "\n",
    "plt.plot(train_loss, label=\"Train loss\", color=\"green\")\n",
    "plt.plot(test_loss, label=\"Test loss\", color=\"blue\")\n",
    "plt.xlabel(\"Epoch\")\n",
    "plt.ylabel(\"Loss\")\n",
    "plt.legend()\n",
    "plt.show()"
   ]
  },
  {
   "cell_type": "code",
   "execution_count": 19,
   "metadata": {},
   "outputs": [
    {
     "data": {
      "image/png": "[encoded data removed]",
      "text/plain": [
       "<Figure size 640x480 with 1 Axes>"
      ]
     },
     "metadata": {},
     "output_type": "display_data"
    }
   ],
   "source": [
    "# Plotting test accuracy, precision, recall\n",
    "\n",
    "plt.plot(test_accuracy, label=\"Test accuracy\", color=\"red\")\n",
    "plt.plot(test_precision, label=\"Test precision\", color=\"green\")\n",
    "plt.plot(test_recall, label=\"Test recall\", color=\"blue\")\n",
    "plt.xlabel(\"Epoch\")\n",
    "plt.legend()\n",
    "plt.show()"
   ]
  },
  {
   "cell_type": "markdown",
   "metadata": {},
   "source": [
    "## Save the model\n",
    "\n",
    "After tuning the hyperparameters and getting an optimal model, we will save the model's state dictionary for later use. Note that we save the state dictionary rather than the whole model for memory efficiency."
   ]
  },
  {
   "cell_type": "code",
   "execution_count": 20,
   "metadata": {},
   "outputs": [],
   "source": [
    "model_path = \"model.pth\"\n",
    "\n",
    "torch.save(model.state_dict(), model_path)"
   ]
  },
  {
   "cell_type": "code",
   "execution_count": null,
   "metadata": {},
   "outputs": [],
   "source": []
  }
 ],
 "metadata": {
  "kernelspec": {
   "display_name": ".venv",
   "language": "python",
   "name": "python3"
  },
  "language_info": {
   "codemirror_mode": {
    "name": "ipython",
    "version": 3
   },
   "file_extension": ".py",
   "mimetype": "text/x-python",
   "name": "python",
   "nbconvert_exporter": "python",
   "pygments_lexer": "ipython3",
   "version": "3.12.2"
  }
 },
 "nbformat": 4,
 "nbformat_minor": 2
}
